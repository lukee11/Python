{
 "cells": [
  {
   "cell_type": "code",
   "execution_count": 1,
   "id": "94c681f8-9a10-4023-8cf0-ad070312d0c0",
   "metadata": {},
   "outputs": [],
   "source": [
    "#Import the pathlib and csv library\n",
    "from pathlib import Path\n",
    "import csv"
   ]
  },
  {
   "cell_type": "code",
   "execution_count": 2,
   "id": "ee7e6a27-cab6-481c-96ff-b776f32d013e",
   "metadata": {},
   "outputs": [],
   "source": [
    "#Set the file path\n",
    "csv_path = Path(\"budget_data.csv\")"
   ]
  },
  {
   "cell_type": "code",
   "execution_count": 23,
   "id": "fdbfb06c-0735-480c-9948-fa287502df74",
   "metadata": {},
   "outputs": [],
   "source": [
    "#Set variables\n",
    "total_months = 0\n",
    "month_of_change = []\n",
    "net_change_list = []\n",
    "greatest_increase = [\"\", 0]\n",
    "greatest_decrease = [\"\", 9999999999999999999]\n",
    "total_net = 0\n",
    "sum_net_change = 0"
   ]
  },
  {
   "cell_type": "code",
   "execution_count": 24,
   "id": "f073a4a9-0a90-46ed-a064-9230a3e349bf",
   "metadata": {},
   "outputs": [],
   "source": [
    "#Open the csv and skip the header\n",
    "with open(csv_path) as f:\n",
    "    #f.seek(0)\n",
    "    reader = csv.reader(f)\n",
    "    #print(row)\n",
    "    header= next(reader)\n",
    "    first_row = next(reader)\n",
    "    previous_net = int(first_row[1])\n",
    "    total_months = total_months + 1\n",
    "    total_net = total_net + int(first_row[1])\n",
    "    for row in reader:\n",
    "        # print(previous_net)\n",
    "        total_months = total_months + 1\n",
    "        total_net = total_net + int(row[1])\n",
    "        net_change = int(row[1]) - previous_net\n",
    "        previous_net = int(row[1])\n",
    "        \n",
    "        net_change_list.append(net_change)\n",
    "        month_of_change.append(row[0])\n",
    "        #calculate the greatest increase\n",
    "        if net_change > greatest_increase[1]:\n",
    "            greatest_increase[0] = row[0]\n",
    "            greatest_increase[1] = net_change\n",
    "\n",
    "        #Calculate the greatest decrease\n",
    "        if net_change < greatest_decrease[1]:\n",
    "            greatest_decrease[0] = row[0]\n",
    "            greatest_decrease[1] = net_change\n"
   ]
  },
  {
   "cell_type": "code",
   "execution_count": 25,
   "id": "891cf609-5437-4e8a-86a4-fcca3348698b",
   "metadata": {},
   "outputs": [
    {
     "name": "stdout",
     "output_type": "stream",
     "text": [
      "-2315.12\n"
     ]
    }
   ],
   "source": [
    "#Calculate average change \n",
    "net_monthly_avg = round (sum(net_change_list)/len(net_change_list), 2)\n",
    "print(net_monthly_avg)"
   ]
  },
  {
   "cell_type": "code",
   "execution_count": 27,
   "id": "1b5d985e-d35d-43cc-8810-c33558a478a0",
   "metadata": {},
   "outputs": [],
   "source": [
    "#Analysis results\n",
    "with open(\"./OUTPUT.txt\", \"w\") as f:\n",
    "    f.write(f\"Financial Analysis\\n\")\n",
    "    f.write(f\"----------------------------\\n\")\n",
    "    f.write(f\"Total Months: {total_months}\\n\")\n",
    "    f.write(f\"Total: ${total_net}\\n\")\n",
    "    f.write(f\"Average Change: ${net_monthly_avg}\\n\")\n",
    "    f.write(f\"Greatest Increase in Profits: {greatest_increase[0]} (${greatest_increase[1]})\\n\")\n",
    "    f.write(f\"Greatest Decrease in Profits: {greatest_decrease[0]} (${greatest_decrease[1]})\\n\")"
   ]
  },
  {
   "cell_type": "code",
   "execution_count": 26,
   "id": "89a322e5-87e0-49b5-aeb1-0c7bf6a92bb0",
   "metadata": {},
   "outputs": [
    {
     "data": {
      "text/plain": [
       "38382578"
      ]
     },
     "execution_count": 26,
     "metadata": {},
     "output_type": "execute_result"
    }
   ],
   "source": [
    "total_net"
   ]
  },
  {
   "cell_type": "code",
   "execution_count": null,
   "id": "22c4a295-e0f9-4fbc-a67c-996c089fb4db",
   "metadata": {},
   "outputs": [],
   "source": []
  }
 ],
 "metadata": {
  "kernelspec": {
   "display_name": "Python [conda env:dev]",
   "language": "python",
   "name": "conda-env-dev-py"
  },
  "language_info": {
   "codemirror_mode": {
    "name": "ipython",
    "version": 3
   },
   "file_extension": ".py",
   "mimetype": "text/x-python",
   "name": "python",
   "nbconvert_exporter": "python",
   "pygments_lexer": "ipython3",
   "version": "3.7.11"
  }
 },
 "nbformat": 4,
 "nbformat_minor": 5
}
